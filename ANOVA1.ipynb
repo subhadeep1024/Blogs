{
 "cells": [
  {
   "cell_type": "raw",
   "metadata": {},
   "source": [
    "<script>\n",
    "  function code_toggle() {\n",
    "    if (code_shown){\n",
    "      $('div.input').hide('500');\n",
    "      $('#toggleButton').val('Show Code')\n",
    "    } else {\n",
    "      $('div.input').show('500');\n",
    "      $('#toggleButton').val('Hide Code')\n",
    "    }\n",
    "    code_shown = !code_shown\n",
    "  }\n",
    "\n",
    "  $( document ).ready(function(){\n",
    "    code_shown=false;\n",
    "    $('div.input').hide()\n",
    "  });\n",
    "</script>\n",
    "<form action=\"javascript:code_toggle()\">\n",
    "  <input type=\"submit\" id=\"toggleButton\" value=\"Show Code\">\n",
    "</form>"
   ]
  },
  {
   "cell_type": "markdown",
   "metadata": {},
   "source": [
    "# Analysis of variance (ANOVA) 1: From intuition to hypothesis"
   ]
  },
  {
   "cell_type": "markdown",
   "metadata": {},
   "source": [
    "This post is aimed to introduce a very important topic of the **Hypothesis Testing** methods- the **Analysis of Variance** or **ANOVA**. ANOVA is a pool of techniques that relate/integrate so many other techniques/topics such as: **t-test**, **z-test**, **Inflation of error (Type I)** etc. Don't worry if you are not familiar with the terms and jargons, I will keep my promise ([made here](https://nbviewer.jupyter.org/github/subhadeep1024/Blogs/blob/master/Welcome.ipynb)) that the posts will be modular and start with very lighter note.\n",
    "\n",
    "ANOVA is an advanced and complicated topic and it takes time to grasp the intuition and underlying hypothesis to be tested by ANOVA. So I will take baby steps and in this post, I will only state an example and construct the foundation of the hypothesis to be tested by ANOVA.\n",
    "\n",
    "So <span style=\"color:blue\">**let's start with an example**</span>. Consider a farmer saw advertisements on several fertilizers and each one claim to result in better growth. So the farmer asked for samples from each of the three companies and applied them on 3 groups of saplings (small/baby trees) on 3 different plots. Consider that the farmer had 1000 samples and the initial height of the saplings were around 140 cm (mean = 140, sd = 2), we call this group as **control** group.\n",
    "\n",
    "Now let's assume that he selected some saplings randomly from the **control** group, transplanted them into 3 plots and applied one (out of the 3) fertilizer on the saplings at each plot. Let's consider the number of saplings selected in plot1, plot2 and plot3 are n1, n2 and n3. For ease of understanding we'll assume the number of saplings transplanted at each plot are same, *i.e.* n1 = n2 = n3. **But remember,**<br/>\n",
    "**1) the number of samples at each group need not to be same and**<br/>\n",
    "**2) even if the number of samples are same, the samples may not be same. For example we may apply Fert1 on plantA and plantB, but Fert2 on plantC and plantD.**\n",
    "\n",
    "Next he measured the length of the saplings after 1 month to understand if there is any difference between the average lentgh of the saplings treated by 3 different fertilizers. The observations are summarized in the following table."
   ]
  },
  {
   "cell_type": "code",
   "execution_count": 25,
   "metadata": {},
   "outputs": [],
   "source": [
    "import matplotlib.pyplot as plt\n",
    "import numpy as np\n",
    "import pandas as pd\n",
    "\n",
    "m1, sd1 = 140, 2\n",
    "m2, sd2 = 150, 5\n",
    "m3, sd3 = 160, 5\n",
    "m4, sd4 = 175, 7\n",
    "\n",
    "f1 = np.random.normal(m1, sd1, 10)\n",
    "f2 = np.random.normal(m2, sd2, 10 )\n",
    "f3 = np.random.normal(m3, sd3, 10)\n",
    "f4 = np.random.normal(m4, sd4, 10)\n",
    "\n",
    "plant_height = pd.DataFrame({'Control':f1, 'Fert1':f2, 'Fert2':f3, 'Fert3':f4})\n",
    "plant_height.index = ['sapling1', 'sapling2', 'sapling3', 'sapling4', 'sapling5', 'sapling6', 'sapling7', 'sapling8', 'sapling9', 'sapling10']\n"
   ]
  },
  {
   "cell_type": "code",
   "execution_count": 26,
   "metadata": {},
   "outputs": [
    {
     "data": {
      "text/html": [
       "<div>\n",
       "<style scoped>\n",
       "    .dataframe tbody tr th:only-of-type {\n",
       "        vertical-align: middle;\n",
       "    }\n",
       "\n",
       "    .dataframe tbody tr th {\n",
       "        vertical-align: top;\n",
       "    }\n",
       "\n",
       "    .dataframe thead th {\n",
       "        text-align: right;\n",
       "    }\n",
       "</style>\n",
       "<table border=\"1\" class=\"dataframe\">\n",
       "  <thead>\n",
       "    <tr style=\"text-align: right;\">\n",
       "      <th></th>\n",
       "      <th>Control</th>\n",
       "      <th>Fert1</th>\n",
       "      <th>Fert2</th>\n",
       "      <th>Fert3</th>\n",
       "    </tr>\n",
       "  </thead>\n",
       "  <tbody>\n",
       "    <tr>\n",
       "      <th>sapling1</th>\n",
       "      <td>140.124541</td>\n",
       "      <td>148.399429</td>\n",
       "      <td>161.303264</td>\n",
       "      <td>173.534005</td>\n",
       "    </tr>\n",
       "    <tr>\n",
       "      <th>sapling2</th>\n",
       "      <td>136.318335</td>\n",
       "      <td>151.895216</td>\n",
       "      <td>158.845484</td>\n",
       "      <td>174.055425</td>\n",
       "    </tr>\n",
       "    <tr>\n",
       "      <th>sapling3</th>\n",
       "      <td>137.669399</td>\n",
       "      <td>140.811912</td>\n",
       "      <td>154.383031</td>\n",
       "      <td>176.562692</td>\n",
       "    </tr>\n",
       "    <tr>\n",
       "      <th>sapling4</th>\n",
       "      <td>139.867143</td>\n",
       "      <td>155.757311</td>\n",
       "      <td>162.840638</td>\n",
       "      <td>174.365791</td>\n",
       "    </tr>\n",
       "    <tr>\n",
       "      <th>sapling5</th>\n",
       "      <td>139.221207</td>\n",
       "      <td>153.601286</td>\n",
       "      <td>156.594771</td>\n",
       "      <td>176.714780</td>\n",
       "    </tr>\n",
       "    <tr>\n",
       "      <th>sapling6</th>\n",
       "      <td>140.134471</td>\n",
       "      <td>154.115810</td>\n",
       "      <td>158.782647</td>\n",
       "      <td>185.910997</td>\n",
       "    </tr>\n",
       "    <tr>\n",
       "      <th>sapling7</th>\n",
       "      <td>138.048156</td>\n",
       "      <td>154.210937</td>\n",
       "      <td>159.420149</td>\n",
       "      <td>183.386509</td>\n",
       "    </tr>\n",
       "    <tr>\n",
       "      <th>sapling8</th>\n",
       "      <td>142.490847</td>\n",
       "      <td>141.396253</td>\n",
       "      <td>164.597926</td>\n",
       "      <td>176.622614</td>\n",
       "    </tr>\n",
       "    <tr>\n",
       "      <th>sapling9</th>\n",
       "      <td>137.558060</td>\n",
       "      <td>153.479935</td>\n",
       "      <td>150.390097</td>\n",
       "      <td>170.049461</td>\n",
       "    </tr>\n",
       "    <tr>\n",
       "      <th>sapling10</th>\n",
       "      <td>143.561924</td>\n",
       "      <td>151.045077</td>\n",
       "      <td>159.934159</td>\n",
       "      <td>181.317737</td>\n",
       "    </tr>\n",
       "  </tbody>\n",
       "</table>\n",
       "</div>"
      ],
      "text/plain": [
       "              Control       Fert1       Fert2       Fert3\n",
       "sapling1   140.124541  148.399429  161.303264  173.534005\n",
       "sapling2   136.318335  151.895216  158.845484  174.055425\n",
       "sapling3   137.669399  140.811912  154.383031  176.562692\n",
       "sapling4   139.867143  155.757311  162.840638  174.365791\n",
       "sapling5   139.221207  153.601286  156.594771  176.714780\n",
       "sapling6   140.134471  154.115810  158.782647  185.910997\n",
       "sapling7   138.048156  154.210937  159.420149  183.386509\n",
       "sapling8   142.490847  141.396253  164.597926  176.622614\n",
       "sapling9   137.558060  153.479935  150.390097  170.049461\n",
       "sapling10  143.561924  151.045077  159.934159  181.317737"
      ]
     },
     "execution_count": 26,
     "metadata": {},
     "output_type": "execute_result"
    }
   ],
   "source": [
    "plant_height"
   ]
  },
  {
   "cell_type": "markdown",
   "metadata": {},
   "source": [
    "Remember, The saplings at each row are not same, and so are the number of samples at each group (columns). Although there is a special type of ANOVA available for such a scenario, which is called as **repeated-measure** ANOVA or **within-group** ANOVA, this example does not deal with that.\n",
    "\n",
    "Let us now observe the mean height of each group:"
   ]
  },
  {
   "cell_type": "code",
   "execution_count": 27,
   "metadata": {},
   "outputs": [
    {
     "data": {
      "text/plain": [
       "<matplotlib.axes._subplots.AxesSubplot at 0x1a7038ad710>"
      ]
     },
     "execution_count": 27,
     "metadata": {},
     "output_type": "execute_result"
    },
    {
     "data": {
      "image/png": "[encoded data removed]",
      "text/plain": [
       "<Figure size 432x288 with 1 Axes>"
      ]
     },
     "metadata": {
      "needs_background": "light"
     },
     "output_type": "display_data"
    }
   ],
   "source": [
    "mean_groups = plant_height.mean(axis = 0)\n",
    "mean_groups = mean_groups.to_frame().T\n",
    "mean_groups.index = ['mean']\n",
    "cols = mean_groups.columns\n",
    "\n",
    "mean_groups.transpose().plot.bar(rot=0)\n"
   ]
  },
  {
   "cell_type": "markdown",
   "metadata": {},
   "source": [
    "We can clearly see from the above barplot that the mean heights are clearly different from each other. But, are those differences large enough to be considered as **statistically significant** ?\n",
    "\n",
    "If you are familiar with hypothesis testing, you would have done **independent 2-sample t-tests** for each of the pairs, *i.e* t-tests between **control-Fert1**, **control-fert2**, **control-Fert3**, **Fert1-Fert2**, **Fert1-Fert3** and **Fer2-fert3**. But there is a problem if we do that, which is associated with **Inflation of errors**. Do not worry about the unknown terms, I will make separate posts for each of them. For now, just try to get the idea that there is a problem applying such pair-wise comparisons.\n",
    "\n",
    "Alternatively, we may check if all the group means (the mean height under each fertilizer treatment) are same, or at least one is different. This approach is called the **Analysis of variance or ANOVA**.\n",
    "\n",
    "So, the NULL and alternative Hypothesis of ANOVA are-\n",
    "\n",
    "**NULL (H0):** all the group means are same.<br/>\n",
    "**Alternative (HA):** At least one group mean is different from the others."
   ]
  },
  {
   "cell_type": "markdown",
   "metadata": {},
   "source": [
    "By now, I hope you have got an idea that why we even need ANOVA and how a general question may be framed into a statistical question, *i.e.* how the hypotheses are framed.\n",
    "\n",
    "If they are clear we are ready to go to next section [From hypothesis to formulation](https://nbviewer.jupyter.org/github/subhadeep1024/Blogs/blob/master/ANOVA2.ipynb).\n"
   ]
  },
  {
   "cell_type": "markdown",
   "metadata": {},
   "source": [
    "[Return to Home Page](https://subhadeep1024.github.io)<br/>\n",
    "[Next post](https://nbviewer.jupyter.org/github/subhadeep1024/Blogs/blob/master/ANOVA2.ipynb)"
   ]
  }
 ],
 "metadata": {
  "kernelspec": {
   "display_name": "Python 3",
   "language": "python",
   "name": "python3"
  },
  "language_info": {
   "codemirror_mode": {
    "name": "ipython",
    "version": 3
   },
   "file_extension": ".py",
   "mimetype": "text/x-python",
   "name": "python",
   "nbconvert_exporter": "python",
   "pygments_lexer": "ipython3",
   "version": "3.7.3"
  }
 },
 "nbformat": 4,
 "nbformat_minor": 2
}
