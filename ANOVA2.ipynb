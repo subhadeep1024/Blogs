{
 "cells": [
  {
   "cell_type": "raw",
   "metadata": {},
   "source": [
    "<script>\n",
    "  function code_toggle() {\n",
    "    if (code_shown){\n",
    "      $('div.input').hide('500');\n",
    "      $('#toggleButton').val('Show Code')\n",
    "    } else {\n",
    "      $('div.input').show('500');\n",
    "      $('#toggleButton').val('Hide Code')\n",
    "    }\n",
    "    code_shown = !code_shown\n",
    "  }\n",
    "\n",
    "  $( document ).ready(function(){\n",
    "    code_shown=false;\n",
    "    $('div.input').hide()\n",
    "  });\n",
    "</script>\n",
    "<form action=\"javascript:code_toggle()\">\n",
    "  <input type=\"submit\" id=\"toggleButton\" value=\"Show Code\">\n",
    "</form>"
   ]
  },
  {
   "cell_type": "markdown",
   "metadata": {},
   "source": [
    "# Analysis of variance (ANOVA) 2: From hypothesis to formulation"
   ]
  },
  {
   "cell_type": "markdown",
   "metadata": {},
   "source": [
    "In the last section we framed the hypotheses to check the possible differential effect of 3 different fertilizers on plant growth and here is the result table:"
   ]
  },
  {
   "cell_type": "code",
   "execution_count": 3,
   "metadata": {},
   "outputs": [],
   "source": [
    "import matplotlib.pyplot as plt\n",
    "import numpy as np\n",
    "import pandas as pd\n",
    "\n",
    "m1, sd1 = 140, 2\n",
    "m2, sd2 = 150, 5\n",
    "m3, sd3 = 160, 5\n",
    "m4, sd4 = 175, 7\n",
    "\n",
    "f1 = np.random.normal(m1, sd1, 10)\n",
    "f2 = np.random.normal(m2, sd2, 10 )\n",
    "f3 = np.random.normal(m3, sd3, 10)\n",
    "f4 = np.random.normal(m4, sd4, 10)\n",
    "\n",
    "plant_height = pd.DataFrame({'Control':f1, 'Fert1':f2, 'Fert2':f3, 'Fert3':f4})\n",
    "plant_height.index = ['sapling1', 'sapling2', 'sapling3', 'sapling4', 'sapling5', 'sapling6', 'sapling7', 'sapling8', 'sapling9', 'sapling10']\n"
   ]
  },
  {
   "cell_type": "code",
   "execution_count": 5,
   "metadata": {},
   "outputs": [
    {
     "data": {
      "text/html": [
       "<div>\n",
       "<style scoped>\n",
       "    .dataframe tbody tr th:only-of-type {\n",
       "        vertical-align: middle;\n",
       "    }\n",
       "\n",
       "    .dataframe tbody tr th {\n",
       "        vertical-align: top;\n",
       "    }\n",
       "\n",
       "    .dataframe thead th {\n",
       "        text-align: right;\n",
       "    }\n",
       "</style>\n",
       "<table border=\"1\" class=\"dataframe\">\n",
       "  <thead>\n",
       "    <tr style=\"text-align: right;\">\n",
       "      <th></th>\n",
       "      <th>Control</th>\n",
       "      <th>Fert1</th>\n",
       "      <th>Fert2</th>\n",
       "      <th>Fert3</th>\n",
       "    </tr>\n",
       "  </thead>\n",
       "  <tbody>\n",
       "    <tr>\n",
       "      <th>sapling1</th>\n",
       "      <td>138.506113</td>\n",
       "      <td>146.262357</td>\n",
       "      <td>158.304753</td>\n",
       "      <td>173.187019</td>\n",
       "    </tr>\n",
       "    <tr>\n",
       "      <th>sapling2</th>\n",
       "      <td>140.554777</td>\n",
       "      <td>151.388079</td>\n",
       "      <td>171.696741</td>\n",
       "      <td>170.952706</td>\n",
       "    </tr>\n",
       "    <tr>\n",
       "      <th>sapling3</th>\n",
       "      <td>141.885326</td>\n",
       "      <td>158.216992</td>\n",
       "      <td>155.711056</td>\n",
       "      <td>174.951697</td>\n",
       "    </tr>\n",
       "    <tr>\n",
       "      <th>sapling4</th>\n",
       "      <td>139.676542</td>\n",
       "      <td>144.008034</td>\n",
       "      <td>162.048086</td>\n",
       "      <td>174.504521</td>\n",
       "    </tr>\n",
       "    <tr>\n",
       "      <th>sapling5</th>\n",
       "      <td>140.905040</td>\n",
       "      <td>151.206439</td>\n",
       "      <td>161.457472</td>\n",
       "      <td>184.694097</td>\n",
       "    </tr>\n",
       "    <tr>\n",
       "      <th>sapling6</th>\n",
       "      <td>140.598176</td>\n",
       "      <td>144.073026</td>\n",
       "      <td>163.256143</td>\n",
       "      <td>168.804835</td>\n",
       "    </tr>\n",
       "    <tr>\n",
       "      <th>sapling7</th>\n",
       "      <td>140.368858</td>\n",
       "      <td>142.480740</td>\n",
       "      <td>160.582624</td>\n",
       "      <td>169.074198</td>\n",
       "    </tr>\n",
       "    <tr>\n",
       "      <th>sapling8</th>\n",
       "      <td>139.518567</td>\n",
       "      <td>142.735159</td>\n",
       "      <td>153.682321</td>\n",
       "      <td>171.088759</td>\n",
       "    </tr>\n",
       "    <tr>\n",
       "      <th>sapling9</th>\n",
       "      <td>139.158372</td>\n",
       "      <td>152.601732</td>\n",
       "      <td>160.006283</td>\n",
       "      <td>173.168715</td>\n",
       "    </tr>\n",
       "    <tr>\n",
       "      <th>sapling10</th>\n",
       "      <td>142.479192</td>\n",
       "      <td>150.740625</td>\n",
       "      <td>157.725462</td>\n",
       "      <td>165.202219</td>\n",
       "    </tr>\n",
       "  </tbody>\n",
       "</table>\n",
       "</div>"
      ],
      "text/plain": [
       "              Control       Fert1       Fert2       Fert3\n",
       "sapling1   138.506113  146.262357  158.304753  173.187019\n",
       "sapling2   140.554777  151.388079  171.696741  170.952706\n",
       "sapling3   141.885326  158.216992  155.711056  174.951697\n",
       "sapling4   139.676542  144.008034  162.048086  174.504521\n",
       "sapling5   140.905040  151.206439  161.457472  184.694097\n",
       "sapling6   140.598176  144.073026  163.256143  168.804835\n",
       "sapling7   140.368858  142.480740  160.582624  169.074198\n",
       "sapling8   139.518567  142.735159  153.682321  171.088759\n",
       "sapling9   139.158372  152.601732  160.006283  173.168715\n",
       "sapling10  142.479192  150.740625  157.725462  165.202219"
      ]
     },
     "execution_count": 5,
     "metadata": {},
     "output_type": "execute_result"
    }
   ],
   "source": [
    "plant_height"
   ]
  },
  {
   "cell_type": "markdown",
   "metadata": {},
   "source": [
    "and here are our hypotheses:<br/><br/>\n",
    "**NULL (H0):** all the group means are the same.<br/>\n",
    "**Alternative (HA):** At least one group mean is different from the others."
   ]
  },
  {
   "cell_type": "markdown",
   "metadata": {},
   "source": [
    "The mean heigth of all the 40 saplings are: "
   ]
  },
  {
   "cell_type": "code",
   "execution_count": 9,
   "metadata": {},
   "outputs": [
    {
     "data": {
      "text/plain": [
       "155.43659631660586"
      ]
     },
     "execution_count": 9,
     "metadata": {},
     "output_type": "execute_result"
    }
   ],
   "source": [
    "(plant_height.sum().sum())/40"
   ]
  },
  {
   "cell_type": "markdown",
   "metadata": {},
   "source": [
    "We will call it the **overall mean** or the **Grand mean**. Now let's learn some new terms:"
   ]
  },
  {
   "cell_type": "markdown",
   "metadata": {},
   "source": [
    "\n",
    "**A) Sum of Squares Total** or **SS<sub>Total</sub>:** The summation of the squarred differences of each individual from the `Grand mean`.\n",
    "\n",
    "**Symbol:** `SST`\n",
    "\n",
    "So `SST` =\n",
    " <span style=\"color:red\">(sapling 1 of Control - overall mean)<sup>2</sup> +  (sapling 2 of Control - overall mean)<sup>2</sup> + .... + (sapling 10 of Control - overall mean)<sup>2</sup></span> `+` <span style=\"color:blue\">(sapling 1 of Fert1 - overall mean)<sup>2</sup> +  (sapling 2 of Fert1 - overall mean)<sup>2</sup> + .... + (sapling 10 of Fert1 - overall mean)<sup>2</sup></span> `+` <span style=\"color:orange\">(sapling 1 of Fert2 - overall mean)<sup>2</sup> +  (sapling 2 of Fert2 - overall mean)<sup>2</sup> + .... + (sapling 10 of Fert2 - overall mean)<sup>2</sup></span> `+` <span style=\"color:green\">(sapling 1 of Fert3 - overall mean)<sup>2</sup> +  (sapling 2 of Fert3 - overall mean)<sup>2</sup> + .... + (sapling 10 of Fert3 - overall mean)<sup>2</sup></span>\n"
   ]
  },
  {
   "cell_type": "markdown",
   "metadata": {},
   "source": [
    "**B) Sum of squares groups:** The summation of the squarred differences of each group mean from the `Grand mean`.\n",
    "\n",
    "**Also known as:** `Sum of squares between` or **SS<sub>Between</sub>** or `Sum of squares treatment`.\n",
    "\n",
    "**Symbol:** `SSG`\n",
    "\n",
    "So `SSG` =\n",
    " <span style=\"color:red\">10 x (mean of Control - Overall mean)<sup>2</sup></span> `+` <span style=\"color:blue\">10 x (mean of Fert1 - Overall mean)<sup>2</sup></span> `+` <span style=\"color:orange\">10 x (mean of Fert2 - Overall mean)<sup>2</sup></span> + <span style=\"color:green\">10 x (mean of Fert3 - Overall mean)<sup>2</sup></span>"
   ]
  },
  {
   "cell_type": "markdown",
   "metadata": {},
   "source": [
    "\n",
    "**C) Mean square of groups**: The average of the `SSG` over the groups.\n",
    "\n",
    "**a.k.a:** `Mean square between` or **MS<sub>Between</sub>** or `Mean square groups`\n",
    "\n",
    "**Symbol:** `MSG`\n",
    "\n",
    "So `MSG` = `SSG` / `df`<sub>groups</sub>\n",
    "\n",
    "where, `df`<sub>groups</sub> = Number of groups - 1. So here, `df`<sub>groups</sub> = 4 - 1 = 3\n"
   ]
  },
  {
   "cell_type": "markdown",
   "metadata": {},
   "source": [
    "**D) Sum of squares of Errors:** The residual or `left-over` sum of squares, *i.e* the sum of squares not captured in **SST**.\n",
    "\n",
    "**a.k.a:** `SS`<sub>error</sub>\n",
    "\n",
    "**Symbol:** `SSE`\n",
    "\n",
    "So, `SSE` = `SST` - `SSB`"
   ]
  },
  {
   "cell_type": "markdown",
   "metadata": {},
   "source": [
    "**E) Mean square of Errors:** The average of the `SSE` over the degrees of freedom of errors.\n",
    "\n",
    "**a.k.a:** `MS`<sub>error</sub>\n",
    "\n",
    "**Symbol:** `MSE`\n",
    "\n",
    "So, `MSE` = `SSE` / `df`<sub>error</sub>\n",
    "\n",
    "where, `df`<sub>error</sub> = (Number of samples - 1) - `df`<sub>groups</sub>. So Here `df`<sub>error</sub> = (40 - 1) - 3 = 36"
   ]
  },
  {
   "cell_type": "markdown",
   "metadata": {},
   "source": [
    "**F) F-statistic:** `MSG` / `MSE`"
   ]
  },
  {
   "cell_type": "markdown",
   "metadata": {},
   "source": [
    "Wow!! So many `jargons` ehh??? \n",
    "\n",
    "Relax, they may look frightening like demons but their usage is pretty simple. The idea behind ANOVA is to interpret the ratio of `MSG`/`MSE`, *i.e* the **F-statistic**.\n",
    "\n",
    "Let's understand the idea step-by-step:\n",
    "\n",
    "1) Ideally, The `Grand mean` should represent all the samples, *i.e,* this mean should be an ideal model of all the samples. But this rarely happens in reality, otherwise we wouldn't have bothered to developed sophisticated algorithms to model our data. The `SST` represents the total deviation of all the samples (*i.e.* the 40 saplings) from the ideal `Grand mean` model.\n",
    "\n",
    "2) Similarly, the `Group means` should represent the samples under the corresponding groups, *i.e,* each `Group mean` should be an ideal model of the samples in corresponding groups. \n",
    "\n",
    "3) Our natural intuition says that the `Group means` should represent the samples better than the `Grand mean`. So the total deviation of each sample from their respective `Group means` (which is `SSG`), should be less than the collective deviation of each sample from the `Grand mean` (the `SST`).\n",
    "\n",
    "4) But the samples under same groups may be very different from each other. So, even the `Group means` may not be the ideal representation of the samples within corresponding groups.\n",
    "\n",
    "5) So none of the `Grand mean` and the `Group means` represent the individual samples well. Therefore there will be differences (errors) between the `Grand mean` and the samples, as well the between each `Group mean` and the corresponding group samples. This first error is called the `SST` and the second one is called `SSG` respectively.\n",
    "\n",
    "6) As the `Group means` are better representative (better model) of the samples than the `Grand mean`, the `SSG` will be smaller than `SST`. The residual errors that is left out, *i.e.* `SST` - `SSG` = `SSE` is the error that remains unexplained. In other words, the value of `SSE` represents how better our model still could be: Higher the value, inferior the model.\n",
    "\n",
    "7) We assumed that the groups may be different from each other. So we expect that there would be a deviation of each `Group mean` from `Grand mean`. That is, we have an explanation for this deviation. This error is nothing but `SSG` and thus, `SSG` may be though as **explained error** \n",
    "\n",
    "8) So, the Total error is divided isnto two parts: **explained** and **unexplained**.\n",
    "\n",
    "9) The idea of ANOVA is nothing but to compare the **average unexplained error** (`MSE`) with the **average explained error** (`MSG`), and the **F-statistic** is noting but the ratio of this average **explained / unexplained** error.\n",
    "\n",
    "10) Both `MSG` and `MSE` are average squarred errors from means and we have specific name for this metric. Can you guess that name?? Yes, this is nothing but ***variance***. Now it makes sense why this method is called ***Analysis of variance*** right??\n",
    "\n",
    "11) can you imagine what could be the source of the **unexplained error** ? One common source may be that the samples under each geoup are very different from other. But, in our present framework, we considered only the Fertilizers would result in different heights and totally excluded that this difference could also arise due to the genetic variation among the saplings. So in our example, the **unexplained error** may be due to the individual genetic variations of the sample saplings.\n",
    "\n",
    "12) We often call this type of **unexplained** error as **within-group error** . \n"
   ]
  },
  {
   "cell_type": "markdown",
   "metadata": {},
   "source": [
    "## Let's go back to the Fertilizer example\n",
    "\n",
    "\n",
    "Under the NULL hypothesis (H<sub>0</sub>), the groups are not different. So,\n",
    "\n",
    "1) the average variation of each `Group mean` from the `Grand mean` should be small right? *i.e.* the **average explained error** or `MSG` should be small.\n",
    "\n",
    "2) If the above is true, then the **average unexplained error** or the `MSE` should be large and\n",
    "\n",
    "3) The ratio `MSG` / `MSE`, *i.e.* the **F-statistic** should be small.\n",
    "\n",
    "If the Fertilizers truly have differential effect on sapling growth, the `MSG` would be large and therefore `MSE` would be small and the `MSG` / `MSE` (**F-statistic**) ratio would be large.\n",
    "\n",
    "Now, how large is large enough to consider that the groups are different? *i.e.* the fertilizers have differential effect? or at least one group is different? (see the [previous article](https://nbviewer.jupyter.org/github/subhadeep1024/Blogs/blob/master/ANOVA1.ipynb) for explanation). Here comes the concept of ***Hypothesis testing**, *i.e.* we would set a critical value or see the p-value of the calculated **F-statistic** to decide whether to reject the H<sub>0</sub> or not.\n",
    "\n",
    "If you are not familiar with ***Hypothesis testing***, You may see [this nice article by Akash Gupta](https://www.linkedin.com/pulse/hypothesis-testing-akash-gupta/) to get an idea on this topic.\n",
    "\n",
    "Phewww....!!! That's it (YAYYY...!!!  :)). I hope you at least got an essence of what **ANOVA** is. This is a huge area of statistics and more complicated variations of **ANOVA** exist for different scenario. In the upcoming posts I will introduce those variants one-by-one, till then ***happy learning*** :) . "
   ]
  },
  {
   "cell_type": "markdown",
   "metadata": {},
   "source": [
    "[Previous article](https://nbviewer.jupyter.org/github/subhadeep1024/Blogs/blob/master/ANOVA1.ipynb)<br/>\n",
    "[Return to Home Page](https://subhadeep1024.github.io)"
   ]
  }
 ],
 "metadata": {
  "kernelspec": {
   "display_name": "Python 3",
   "language": "python",
   "name": "python3"
  },
  "language_info": {
   "codemirror_mode": {
    "name": "ipython",
    "version": 3
   },
   "file_extension": ".py",
   "mimetype": "text/x-python",
   "name": "python",
   "nbconvert_exporter": "python",
   "pygments_lexer": "ipython3",
   "version": "3.7.3"
  }
 },
 "nbformat": 4,
 "nbformat_minor": 2
}
