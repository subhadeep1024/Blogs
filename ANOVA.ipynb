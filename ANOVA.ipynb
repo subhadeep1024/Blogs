{
 "cells": [
  {
   "cell_type": "markdown",
   "metadata": {},
   "source": [
    "# Analysis of variance (ANOVA) 1: intuition and hypothesis"
   ]
  },
  {
   "cell_type": "markdown",
   "metadata": {},
   "source": [
    "Dear reader,\n",
    "\n",
    "Today I am goind to discuss a very important technique of **Hypothesis Testing** called the **Analysis of Variance** or **ANOVA**. ANOVA is a pool of techniques that relate/integrate so many other techniques/topics such as: **t-test**, **z-test**, **Inflation of error (Type I)** etc. Don't worry if you are not familiar with the terms and jargons, I will keep my promise ([made here](https://nbviewer.jupyter.org/github/subhadeep1024/Blogs/blob/master/Welcome.ipynb)) that the posts will be modular and start with very lighter note.\n",
    "\n",
    "ANOVA is an advanced and complicated topic and it takes time to grasp the intuition and underlying hypothesis to be tested by ANOVA. So I will take baby steps and in this post, I will only state an example and construct the foundation of the hypothesis to be tested by ANOVA.\n",
    "\n",
    "So let's start with an example. Consider a farmer saw advertisements on several fertilizers and each one claim to result in better growth. So the farmer asked for samples from each of the three companies and applied them on 3 groups of saplings (small/baby trees) on 3 different plots. Consider that the farmer had 1000 samples and the initial height of the saplings were around 140 cm (mean = 140, sd = 2), we call this group as **control** group.\n",
    "\n",
    "Now let's assume that he selected some saplings randomly from the **control** group, transplanted them into 3 plots and applied one (out of the 3) fertilizer on the saplings at each plot. Let's consider the number of saplings selected in plot1, plot2 and plot3 are n1, n2 and n3. For ease of understanding we'll assume the number of saplings transplanted at each plot are same, *i.e.* n1 = n2 = n3.\n",
    "\n",
    "Next he measured the length of the saplings after 1 month to understand if there is any difference between the average lentgh of the saplings treated by 3 different fertilizers. The observations are summarized in the following table."
   ]
  },
  {
   "cell_type": "code",
   "execution_count": 69,
   "metadata": {},
   "outputs": [],
   "source": [
    "{\n",
    "    \"tags\": [\n",
    "        \"remove_input\",\n",
    "    ]\n",
    "}\n",
    "\n",
    "import matplotlib.pyplot as plt\n",
    "import numpy as np\n",
    "import pandas as pd\n",
    "\n",
    "m1, sd1 = 140, 2\n",
    "m2, sd2 = 150, 5\n",
    "m3, sd3 = 160, 5\n",
    "m4, sd4 = 175, 7\n",
    "\n",
    "f1 = np.random.normal(m1, sd1, 10)\n",
    "f2 = np.random.normal(m2, sd2, 10 )\n",
    "f3 = np.random.normal(m3, sd3, 10)\n",
    "f4 = np.random.normal(m4, sd4, 10)\n",
    "\n",
    "#type(m1)\n",
    "#type(sd1)\n",
    "#type(f1)\n",
    "\n",
    "#index = ['Row'+str(i) for i in range(1, len(f1))]\n",
    "\n",
    "plant_height = pd.DataFrame({'Control':f1, 'Fert1':f2, 'Fert2':f3, 'Fert3':f4})\n",
    "plant_height.index = ['sapling1', 'sapling2', 'sapling3', 'sapling4', 'sapling5', 'sapling6', 'sapling7', 'sapling8', 'sapling9', 'sapling10']\n"
   ]
  },
  {
   "cell_type": "code",
   "execution_count": 62,
   "metadata": {},
   "outputs": [
    {
     "data": {
      "text/html": [
       "<div>\n",
       "<style scoped>\n",
       "    .dataframe tbody tr th:only-of-type {\n",
       "        vertical-align: middle;\n",
       "    }\n",
       "\n",
       "    .dataframe tbody tr th {\n",
       "        vertical-align: top;\n",
       "    }\n",
       "\n",
       "    .dataframe thead th {\n",
       "        text-align: right;\n",
       "    }\n",
       "</style>\n",
       "<table border=\"1\" class=\"dataframe\">\n",
       "  <thead>\n",
       "    <tr style=\"text-align: right;\">\n",
       "      <th></th>\n",
       "      <th>Control</th>\n",
       "      <th>Fert1</th>\n",
       "      <th>Fert2</th>\n",
       "      <th>Fert3</th>\n",
       "    </tr>\n",
       "  </thead>\n",
       "  <tbody>\n",
       "    <tr>\n",
       "      <th>sapling1</th>\n",
       "      <td>140.178260</td>\n",
       "      <td>153.598071</td>\n",
       "      <td>163.423967</td>\n",
       "      <td>175.737018</td>\n",
       "    </tr>\n",
       "    <tr>\n",
       "      <th>sapling2</th>\n",
       "      <td>139.882550</td>\n",
       "      <td>157.511764</td>\n",
       "      <td>160.239980</td>\n",
       "      <td>171.610285</td>\n",
       "    </tr>\n",
       "    <tr>\n",
       "      <th>sapling3</th>\n",
       "      <td>139.871629</td>\n",
       "      <td>153.846867</td>\n",
       "      <td>166.712080</td>\n",
       "      <td>178.652117</td>\n",
       "    </tr>\n",
       "    <tr>\n",
       "      <th>sapling4</th>\n",
       "      <td>140.494633</td>\n",
       "      <td>150.927409</td>\n",
       "      <td>157.769631</td>\n",
       "      <td>172.516226</td>\n",
       "    </tr>\n",
       "    <tr>\n",
       "      <th>sapling5</th>\n",
       "      <td>140.044785</td>\n",
       "      <td>141.547473</td>\n",
       "      <td>163.949113</td>\n",
       "      <td>180.632656</td>\n",
       "    </tr>\n",
       "    <tr>\n",
       "      <th>sapling6</th>\n",
       "      <td>139.568726</td>\n",
       "      <td>148.579224</td>\n",
       "      <td>161.661274</td>\n",
       "      <td>178.892711</td>\n",
       "    </tr>\n",
       "    <tr>\n",
       "      <th>sapling7</th>\n",
       "      <td>136.321886</td>\n",
       "      <td>151.842024</td>\n",
       "      <td>159.848375</td>\n",
       "      <td>162.356772</td>\n",
       "    </tr>\n",
       "    <tr>\n",
       "      <th>sapling8</th>\n",
       "      <td>137.883597</td>\n",
       "      <td>149.012080</td>\n",
       "      <td>159.638181</td>\n",
       "      <td>183.621779</td>\n",
       "    </tr>\n",
       "    <tr>\n",
       "      <th>sapling9</th>\n",
       "      <td>138.850059</td>\n",
       "      <td>142.565326</td>\n",
       "      <td>159.601653</td>\n",
       "      <td>150.106052</td>\n",
       "    </tr>\n",
       "    <tr>\n",
       "      <th>sapling10</th>\n",
       "      <td>140.684210</td>\n",
       "      <td>146.502954</td>\n",
       "      <td>155.981258</td>\n",
       "      <td>171.789327</td>\n",
       "    </tr>\n",
       "  </tbody>\n",
       "</table>\n",
       "</div>"
      ],
      "text/plain": [
       "              Control       Fert1       Fert2       Fert3\n",
       "sapling1   140.178260  153.598071  163.423967  175.737018\n",
       "sapling2   139.882550  157.511764  160.239980  171.610285\n",
       "sapling3   139.871629  153.846867  166.712080  178.652117\n",
       "sapling4   140.494633  150.927409  157.769631  172.516226\n",
       "sapling5   140.044785  141.547473  163.949113  180.632656\n",
       "sapling6   139.568726  148.579224  161.661274  178.892711\n",
       "sapling7   136.321886  151.842024  159.848375  162.356772\n",
       "sapling8   137.883597  149.012080  159.638181  183.621779\n",
       "sapling9   138.850059  142.565326  159.601653  150.106052\n",
       "sapling10  140.684210  146.502954  155.981258  171.789327"
      ]
     },
     "execution_count": 62,
     "metadata": {},
     "output_type": "execute_result"
    }
   ],
   "source": [
    "plant_height"
   ]
  },
  {
   "cell_type": "markdown",
   "metadata": {},
   "source": [
    "Remember, The saplings at each row are not same, and so are the number of samples at each group (columns). Although there is a special type of ANOVA available for such a scenario, which is called as **repeated-measure** ANOVA or **within-group** ANOVA, this example does not deal with that.\n",
    "\n",
    "Let us now observe the mean height of each group:"
   ]
  },
  {
   "cell_type": "code",
   "execution_count": 68,
   "metadata": {},
   "outputs": [
    {
     "data": {
      "text/plain": [
       "Control    139.378034\n",
       "Fert1      149.593319\n",
       "Fert2      160.882551\n",
       "Fert3      172.591494\n",
       "dtype: float64"
      ]
     },
     "execution_count": 68,
     "metadata": {},
     "output_type": "execute_result"
    }
   ],
   "source": [
    "mean_groups = plant_height.mean(axis = 0)\n",
    "mean_groups"
   ]
  },
  {
   "cell_type": "markdown",
   "metadata": {},
   "source": [
    "We can clearly see that the mean heights are clearly different from each other. But, are those differences large enough to be considered as **statistically significant** ?\n",
    "\n",
    "Normally, if you are familiar with hypothesis testing, you would have done **independent 2-sample t-tests** for each of the pairs, *i.e* t-tests between **control-Fert1**, **control-fert2**, **control-Fert3**, **Fert1-Fert2**, **Fert1-Fert3** and **Fer2-fert3**. But there is a problem if we do that, which is associated with **Inflation of errors**. Do not worry about the unknown terms, I will make separate posts for each of them. For now, just try to get the idea that there is a problem applying such pair-wise comparisons.\n",
    "\n",
    "Alternatively, we may check if all the group means (the mean height under each fertilizer treatment) are same, or at least one is different. This approach is called the **Analysis of variance or ANOVA**.\n",
    "\n",
    "So, the NULL and alternative Hypothesis of ANOVA are-\n",
    "\n",
    "**NULL (H0):** all the group means are same.<br/>\n",
    "**Alternative (HA):** At least one group mean is different from the others."
   ]
  },
  {
   "cell_type": "markdown",
   "metadata": {},
   "source": [
    "By now, I hope you have got an idea that why we even need ANOVA and how a normal question may be framed into a statistical question, *i.e.* how the hypotheses are framed. If they are clear we are ready to go to next section: **the mechanism of ANOVA**. The next section will be posted shortly, till then byee :) .\n"
   ]
  },
  {
   "cell_type": "markdown",
   "metadata": {},
   "source": [
    "[Return to Home Page](https://subhadeep1024.github.io)"
   ]
  }
 ],
 "metadata": {
  "kernelspec": {
   "display_name": "Python 3",
   "language": "python",
   "name": "python3"
  },
  "language_info": {
   "codemirror_mode": {
    "name": "ipython",
    "version": 3
   },
   "file_extension": ".py",
   "mimetype": "text/x-python",
   "name": "python",
   "nbconvert_exporter": "python",
   "pygments_lexer": "ipython3",
   "version": "3.7.3"
  }
 },
 "nbformat": 4,
 "nbformat_minor": 2
}
